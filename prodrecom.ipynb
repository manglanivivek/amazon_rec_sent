{
 "cells": [
  {
   "cell_type": "code",
   "execution_count": 75,
   "metadata": {},
   "outputs": [],
   "source": [
    "import numpy as np\n",
    "import pandas as pd\n",
    "import matplotlib.pyplot as plt\n",
    "import seaborn as sb\n",
    "import time, datetime\n",
    "import warnings\n",
    "warnings.filterwarnings(\"ignore\") \n",
    "import nltk\n",
    "from nltk.stem.porter import PorterStemmer\n",
    "from sklearn.feature_extraction.text import CountVectorizer\n",
    "from sklearn.metrics.pairwise import cosine_similarity\n",
    "from transformers import AutoTokenizer\n",
    "from transformers import AutoModelForSequenceClassification\n",
    "from scipy.special import softmax\n",
    "from tqdm import tqdm\n",
    "from ipywidgets import FloatProgress"
   ]
  },
  {
   "cell_type": "code",
   "execution_count": 47,
   "metadata": {},
   "outputs": [],
   "source": [
    "df=pd.read_csv(\"E:\\Projects\\Product Recommendation\\Amazon\\Amazon.csv\")"
   ]
  },
  {
   "cell_type": "code",
   "execution_count": 48,
   "metadata": {},
   "outputs": [
    {
     "data": {
      "text/html": [
       "<div>\n",
       "<style scoped>\n",
       "    .dataframe tbody tr th:only-of-type {\n",
       "        vertical-align: middle;\n",
       "    }\n",
       "\n",
       "    .dataframe tbody tr th {\n",
       "        vertical-align: top;\n",
       "    }\n",
       "\n",
       "    .dataframe thead th {\n",
       "        text-align: right;\n",
       "    }\n",
       "</style>\n",
       "<table border=\"1\" class=\"dataframe\">\n",
       "  <thead>\n",
       "    <tr style=\"text-align: right;\">\n",
       "      <th></th>\n",
       "      <th>product_id</th>\n",
       "      <th>product_name</th>\n",
       "      <th>category</th>\n",
       "      <th>discounted_price</th>\n",
       "      <th>actual_price</th>\n",
       "      <th>discount_percentage</th>\n",
       "      <th>rating</th>\n",
       "      <th>rating_count</th>\n",
       "      <th>about_product</th>\n",
       "      <th>user_id</th>\n",
       "      <th>user_name</th>\n",
       "      <th>review_id</th>\n",
       "      <th>review_title</th>\n",
       "      <th>review_content</th>\n",
       "      <th>img_link</th>\n",
       "      <th>product_link</th>\n",
       "    </tr>\n",
       "  </thead>\n",
       "  <tbody>\n",
       "    <tr>\n",
       "      <th>0</th>\n",
       "      <td>B07JW9H4J1</td>\n",
       "      <td>Wayona Nylon Braided USB to Lightning Fast Charging and Data Sync Cable Compatible for iPhone 13, 12,11, X, 8, 7, 6, 5, iPad Air, Pro, Mini (3 FT Pack of 1, Grey)</td>\n",
       "      <td>Computers&amp;Accessories|Accessories&amp;Peripherals|Cables&amp;Accessories|Cables|USBCables</td>\n",
       "      <td>₹399</td>\n",
       "      <td>₹1,099</td>\n",
       "      <td>64%</td>\n",
       "      <td>4.2</td>\n",
       "      <td>24,269</td>\n",
       "      <td>High Compatibility : Compatible With iPhone 12, 11, X/XsMax/Xr ,iPhone 8/8 Plus,iPhone 7/7 Plus,iPhone 6s/6s Plus,iPhone 6/6 Plus,iPhone 5/5s/5c/se,iPad Pro,iPad Air 1/2,iPad mini 1/2/3,iPod nano7...</td>\n",
       "      <td>AG3D6O4STAQKAY2UVGEUV46KN35Q,AHMY5CWJMMK5BJRBBSNLYT3ONILA,AHCTC6ULH4XB6YHDY6PCH2R772LQ,AGYHHIERNXKA6P5T7CZLXKVPT7IQ,AG4OGOFWXJZTQ2HKYIOCOY3KXF2Q,AENGU523SXMOS7JPDTW52PNNVWGQ,AEQJHCVTNINBS4FKTBGQRQ...</td>\n",
       "      <td>Manav,Adarsh gupta,Sundeep,S.Sayeed Ahmed,jaspreet singh,Khaja moin,Anand,S.ARUMUGAM</td>\n",
       "      <td>R3HXWT0LRP0NMF,R2AJM3LFTLZHFO,R6AQJGUP6P86,R1KD19VHEDV0OR,R3C02RMYQMK6FC,R39GQRVBUZBWGY,R2K9EDOE15QIRJ,R3OI7YT648TL8I</td>\n",
       "      <td>Satisfied,Charging is really fast,Value for money,Product review,Good quality,Good product,Good Product,As of now seems good</td>\n",
       "      <td>Looks durable Charging is fine tooNo complains,Charging is really fast, good product.,Till now satisfied with the quality.,This is a good product . The charging speed is slower than the original i...</td>\n",
       "      <td>https://m.media-amazon.com/images/W/WEBP_402378-T1/images/I/51UsScvHQNL._SX300_SY300_QL70_FMwebp_.jpg</td>\n",
       "      <td>https://www.amazon.in/Wayona-Braided-WN3LG1-Syncing-Charging/dp/B07JW9H4J1/ref=sr_1_1?qid=1672909124&amp;s=electronics&amp;sr=1-1</td>\n",
       "    </tr>\n",
       "    <tr>\n",
       "      <th>1</th>\n",
       "      <td>B098NS6PVG</td>\n",
       "      <td>Ambrane Unbreakable 60W / 3A Fast Charging 1.5m Braided Type C Cable for Smartphones, Tablets, Laptops &amp; other Type C devices, PD Technology, 480Mbps Data Sync, Quick Charge 3.0 (RCT15A, Black)</td>\n",
       "      <td>Computers&amp;Accessories|Accessories&amp;Peripherals|Cables&amp;Accessories|Cables|USBCables</td>\n",
       "      <td>₹199</td>\n",
       "      <td>₹349</td>\n",
       "      <td>43%</td>\n",
       "      <td>4.0</td>\n",
       "      <td>43,994</td>\n",
       "      <td>Compatible with all Type C enabled devices, be it an android smartphone (Mi, Samsung, Oppo, Vivo, Realme, OnePlus, etc), tablet, laptop (Macbook, Chromebook, etc)|Supports Quick Charging (2.0/3.0)...</td>\n",
       "      <td>AECPFYFQVRUWC3KGNLJIOREFP5LQ,AGYYVPDD7YG7FYNBXNGXZJT525AQ,AHONIZU3ICIEHQIGQ6R2VFRSBXOQ,AFPHD2CRPDZMWMBL7WXRSVYWS5JA,AEZ346GX3HJ4O4XNRPHCNHXQURMQ,AEPSWFPNECKO34PUC7I56ITGXR6Q,AHWVEHR5DYLVFTO2KF3IZA...</td>\n",
       "      <td>ArdKn,Nirbhay kumar,Sagar Viswanathan,Asp,Placeholder,BharanI,sonia,Niam</td>\n",
       "      <td>RGIQEG07R9HS2,R1SMWZQ86XIN8U,R2J3Y1WL29GWDE,RYGGS0M09S3KY,R17KQRUTAN5DKS,R3AAQGS6HP2QUK,R1HDNOG6TO2CCA,R3PHKXYA5AFEOU</td>\n",
       "      <td>A Good Braided Cable for Your Type C Device,Good quality product from ambrane,Super cable,As,Good quality,Good product,its good,Good quality for the price but one issue with my unit</td>\n",
       "      <td>I ordered this cable to connect my phone to Android Auto of car. The cable is really strong and the connection ports are really well made. I already has a Micro USB cable from Ambrane and it's sti...</td>\n",
       "      <td>https://m.media-amazon.com/images/W/WEBP_402378-T2/images/I/31zOsqQOAOL._SY445_SX342_QL70_FMwebp_.jpg</td>\n",
       "      <td>https://www.amazon.in/Ambrane-Unbreakable-Charging-Braided-Cable/dp/B098NS6PVG/ref=sr_1_2?qid=1672909124&amp;s=electronics&amp;sr=1-2</td>\n",
       "    </tr>\n",
       "    <tr>\n",
       "      <th>2</th>\n",
       "      <td>B096MSW6CT</td>\n",
       "      <td>Sounce Fast Phone Charging Cable &amp; Data Sync USB Cable Compatible for iPhone 13, 12,11, X, 8, 7, 6, 5, iPad Air, Pro, Mini &amp; iOS Devices</td>\n",
       "      <td>Computers&amp;Accessories|Accessories&amp;Peripherals|Cables&amp;Accessories|Cables|USBCables</td>\n",
       "      <td>₹199</td>\n",
       "      <td>₹1,899</td>\n",
       "      <td>90%</td>\n",
       "      <td>3.9</td>\n",
       "      <td>7,928</td>\n",
       "      <td>【 Fast Charger&amp; Data Sync】-With built-in safety proctections and four-core copper wires promote maximum signal quality and strength and enhance charging &amp; data transfer speed with up to 480 mb/s t...</td>\n",
       "      <td>AGU3BBQ2V2DDAMOAKGFAWDDQ6QHA,AESFLDV2PT363T2AQLWQOWZ4N3OA,AHTPQRIMGUD4BYR5YIHBH3CCGEFQ,AEUVWXYP5LT7PZLLZENEO2NODPBQ,AHC7MPW55DOO6WNCOQVA2VHOD26A,AFDI6FRPFBTNBG7BAEB7JDJSMKDQ,AFQKCEEEKXCOHTDG4WUN3X...</td>\n",
       "      <td>Kunal,Himanshu,viswanath,sai niharka,saqib malik,Aashiq,Ramu Challa,Sanjay gupta</td>\n",
       "      <td>R3J3EQQ9TZI5ZJ,R3E7WBGK7ID0KV,RWU79XKQ6I1QF,R25X4TBMPY91LX,R27OK7G99VK0TR,R207CYDCHJJTCJ,R3PCU8XMU173BT,R1IMONDOWRNU5V</td>\n",
       "      <td>Good speed for earlier versions,Good Product,Working good,Good for the price,Good,Worth for money,Working nice,it's a really nice product</td>\n",
       "      <td>Not quite durable and sturdy,https://m.media-amazon.com/images/W/WEBP_402378-T1/images/I/71rIggrbUCL._SY88.jpg,Working good,https://m.media-amazon.com/images/W/WEBP_402378-T1/images/I/61bKp9YO6wL....</td>\n",
       "      <td>https://m.media-amazon.com/images/W/WEBP_402378-T1/images/I/31IvNJZnmdL._SY445_SX342_QL70_FMwebp_.jpg</td>\n",
       "      <td>https://www.amazon.in/Sounce-iPhone-Charging-Compatible-Devices/dp/B096MSW6CT/ref=sr_1_3?qid=1672909124&amp;s=electronics&amp;sr=1-3</td>\n",
       "    </tr>\n",
       "    <tr>\n",
       "      <th>3</th>\n",
       "      <td>B08HDJ86NZ</td>\n",
       "      <td>boAt Deuce USB 300 2 in 1 Type-C &amp; Micro USB Stress Resistant, Tangle-Free, Sturdy Cable with 3A Fast Charging &amp; 480mbps Data Transmission, 10000+ Bends Lifespan and Extended 1.5m Length(Martian Red)</td>\n",
       "      <td>Computers&amp;Accessories|Accessories&amp;Peripherals|Cables&amp;Accessories|Cables|USBCables</td>\n",
       "      <td>₹329</td>\n",
       "      <td>₹699</td>\n",
       "      <td>53%</td>\n",
       "      <td>4.2</td>\n",
       "      <td>94,363</td>\n",
       "      <td>The boAt Deuce USB 300 2 in 1 cable is compatible with smartphones, tablets, PC peripherals, Bluetooth speakers, power banks and all other devices with Type-C as well as Micro USB port|It ensures ...</td>\n",
       "      <td>AEWAZDZZJLQUYVOVGBEUKSLXHQ5A,AG5HTSFRRE6NL3M5SGCUQBP7YSCA,AH725ST5NW2Y4JZPKUNTIJCUK2BA,AHV3TXIFCJPMS4D5JATCEUR266MQ,AGWIGDEMFIIUAOXYY2QATNBSUGHA,AFSTSLQUV4EVEXWKBOLEFHL2H5YQ,AGAKDNBHY2FKX7I4ACRGIL...</td>\n",
       "      <td>Omkar dhale,JD,HEMALATHA,Ajwadh a.,amar singh chouhan,Ravi Siddan,Himanshu Goel,Udaykumar</td>\n",
       "      <td>R3EEUZKKK9J36I,R3HJVYCLYOY554,REDECAZ7AMPQC,R1CLH2ULIVG5U3,R2DMKIBGFKBD6R,RC89B5IAJUTR5,R3B3DDON5FH8DS,R13WAEJDI5RS36</td>\n",
       "      <td>Good product,Good one,Nice,Really nice product,Very first time change,Good,Fine product but could be better,Very nice it's charging like jet</td>\n",
       "      <td>Good product,long wire,Charges good,Nice,I bought this cable for Rs.339 worthy product for this price, i tested it in various charger adapters 33w and 18w it supports fast charging as well.,Good,O...</td>\n",
       "      <td>https://m.media-amazon.com/images/I/41V5FtEWPkL._SX300_SY300_QL70_FMwebp_.jpg</td>\n",
       "      <td>https://www.amazon.in/Deuce-300-Resistant-Tangle-Free-Transmission/dp/B08HDJ86NZ/ref=sr_1_4?qid=1672909124&amp;s=electronics&amp;sr=1-4</td>\n",
       "    </tr>\n",
       "    <tr>\n",
       "      <th>4</th>\n",
       "      <td>B08CF3B7N1</td>\n",
       "      <td>Portronics Konnect L 1.2M Fast Charging 3A 8 Pin USB Cable with Charge &amp; Sync Function for iPhone, iPad (Grey)</td>\n",
       "      <td>Computers&amp;Accessories|Accessories&amp;Peripherals|Cables&amp;Accessories|Cables|USBCables</td>\n",
       "      <td>₹154</td>\n",
       "      <td>₹399</td>\n",
       "      <td>61%</td>\n",
       "      <td>4.2</td>\n",
       "      <td>16,905</td>\n",
       "      <td>[CHARGE &amp; SYNC FUNCTION]- This cable comes with charging &amp; Data sync function|[HIGH QUALITY MATERIAL]- TPE + Nylon Material to make sure that the life of the cable is enhanced significantly|[LONG ...</td>\n",
       "      <td>AE3Q6KSUK5P75D5HFYHCRAOLODSA,AFUGIFH5ZAFXRDSZHM4QB2KPKFUQ,AFK4NJOLFSJGWLOJIUIAROJF6YVA,AFUOTYRFUXVPEBGIXVZZ7DR3CZUA,AFDLRSXKDZ6U3U3KD46SQLFGZQRA,AH5VLM66SIK7J3IRG4NY7XVOQ55A,AE3MQNNHHLUHXURL5S7IAR...</td>\n",
       "      <td>rahuls6099,Swasat Borah,Ajay Wadke,Pranali,RVK,Bhargav,Durai Vignesh,Amazon Customer</td>\n",
       "      <td>R1BP4L2HH9TFUP,R16PVJEXKV6QZS,R2UPDB81N66T4P,R3KK4GT934ST3I,RCFHMWUSBIJO,RDO7DACXMAJ84,R3A6MEZL3LY66Z,R1ESIEKPGAYA29</td>\n",
       "      <td>As good as original,Decent,Good one for secondary use,Best quality,GOOD,Amazing product at a mind blowing price!,Nice Quality,Good product</td>\n",
       "      <td>Bought this instead of original apple, does the work for 150rs, not as fast as apple charger but its a good option if you want cheap and good product, bought it for iPad pro 10.5 and it's working ...</td>\n",
       "      <td>https://m.media-amazon.com/images/W/WEBP_402378-T2/images/I/31VzNhhqifL._SX300_SY300_QL70_FMwebp_.jpg</td>\n",
       "      <td>https://www.amazon.in/Portronics-Konnect-POR-1080-Charging-Function/dp/B08CF3B7N1/ref=sr_1_5?qid=1672909124&amp;s=electronics&amp;sr=1-5</td>\n",
       "    </tr>\n",
       "  </tbody>\n",
       "</table>\n",
       "</div>"
      ],
      "text/plain": [
       "   product_id                                                                                                                                                                                             product_name                                                                           category discounted_price actual_price discount_percentage rating rating_count                                                                                                                                                                                            about_product                                                                                                                                                                                                  user_id                                                                                  user_name                                                                                                               review_id                                                                                                                                                                           review_title                                                                                                                                                                                           review_content                                                                                               img_link                                                                                                                      product_link\n",
       "0  B07JW9H4J1                                       Wayona Nylon Braided USB to Lightning Fast Charging and Data Sync Cable Compatible for iPhone 13, 12,11, X, 8, 7, 6, 5, iPad Air, Pro, Mini (3 FT Pack of 1, Grey)  Computers&Accessories|Accessories&Peripherals|Cables&Accessories|Cables|USBCables             ₹399       ₹1,099                 64%    4.2       24,269  High Compatibility : Compatible With iPhone 12, 11, X/XsMax/Xr ,iPhone 8/8 Plus,iPhone 7/7 Plus,iPhone 6s/6s Plus,iPhone 6/6 Plus,iPhone 5/5s/5c/se,iPad Pro,iPad Air 1/2,iPad mini 1/2/3,iPod nano7...  AG3D6O4STAQKAY2UVGEUV46KN35Q,AHMY5CWJMMK5BJRBBSNLYT3ONILA,AHCTC6ULH4XB6YHDY6PCH2R772LQ,AGYHHIERNXKA6P5T7CZLXKVPT7IQ,AG4OGOFWXJZTQ2HKYIOCOY3KXF2Q,AENGU523SXMOS7JPDTW52PNNVWGQ,AEQJHCVTNINBS4FKTBGQRQ...       Manav,Adarsh gupta,Sundeep,S.Sayeed Ahmed,jaspreet singh,Khaja moin,Anand,S.ARUMUGAM   R3HXWT0LRP0NMF,R2AJM3LFTLZHFO,R6AQJGUP6P86,R1KD19VHEDV0OR,R3C02RMYQMK6FC,R39GQRVBUZBWGY,R2K9EDOE15QIRJ,R3OI7YT648TL8I                                                           Satisfied,Charging is really fast,Value for money,Product review,Good quality,Good product,Good Product,As of now seems good  Looks durable Charging is fine tooNo complains,Charging is really fast, good product.,Till now satisfied with the quality.,This is a good product . The charging speed is slower than the original i...  https://m.media-amazon.com/images/W/WEBP_402378-T1/images/I/51UsScvHQNL._SX300_SY300_QL70_FMwebp_.jpg         https://www.amazon.in/Wayona-Braided-WN3LG1-Syncing-Charging/dp/B07JW9H4J1/ref=sr_1_1?qid=1672909124&s=electronics&sr=1-1\n",
       "1  B098NS6PVG        Ambrane Unbreakable 60W / 3A Fast Charging 1.5m Braided Type C Cable for Smartphones, Tablets, Laptops & other Type C devices, PD Technology, 480Mbps Data Sync, Quick Charge 3.0 (RCT15A, Black)  Computers&Accessories|Accessories&Peripherals|Cables&Accessories|Cables|USBCables             ₹199         ₹349                 43%    4.0       43,994  Compatible with all Type C enabled devices, be it an android smartphone (Mi, Samsung, Oppo, Vivo, Realme, OnePlus, etc), tablet, laptop (Macbook, Chromebook, etc)|Supports Quick Charging (2.0/3.0)...  AECPFYFQVRUWC3KGNLJIOREFP5LQ,AGYYVPDD7YG7FYNBXNGXZJT525AQ,AHONIZU3ICIEHQIGQ6R2VFRSBXOQ,AFPHD2CRPDZMWMBL7WXRSVYWS5JA,AEZ346GX3HJ4O4XNRPHCNHXQURMQ,AEPSWFPNECKO34PUC7I56ITGXR6Q,AHWVEHR5DYLVFTO2KF3IZA...                   ArdKn,Nirbhay kumar,Sagar Viswanathan,Asp,Placeholder,BharanI,sonia,Niam   RGIQEG07R9HS2,R1SMWZQ86XIN8U,R2J3Y1WL29GWDE,RYGGS0M09S3KY,R17KQRUTAN5DKS,R3AAQGS6HP2QUK,R1HDNOG6TO2CCA,R3PHKXYA5AFEOU  A Good Braided Cable for Your Type C Device,Good quality product from ambrane,Super cable,As,Good quality,Good product,its good,Good quality for the price but one issue with my unit  I ordered this cable to connect my phone to Android Auto of car. The cable is really strong and the connection ports are really well made. I already has a Micro USB cable from Ambrane and it's sti...  https://m.media-amazon.com/images/W/WEBP_402378-T2/images/I/31zOsqQOAOL._SY445_SX342_QL70_FMwebp_.jpg     https://www.amazon.in/Ambrane-Unbreakable-Charging-Braided-Cable/dp/B098NS6PVG/ref=sr_1_2?qid=1672909124&s=electronics&sr=1-2\n",
       "2  B096MSW6CT                                                                 Sounce Fast Phone Charging Cable & Data Sync USB Cable Compatible for iPhone 13, 12,11, X, 8, 7, 6, 5, iPad Air, Pro, Mini & iOS Devices  Computers&Accessories|Accessories&Peripherals|Cables&Accessories|Cables|USBCables             ₹199       ₹1,899                 90%    3.9        7,928  【 Fast Charger& Data Sync】-With built-in safety proctections and four-core copper wires promote maximum signal quality and strength and enhance charging & data transfer speed with up to 480 mb/s t...  AGU3BBQ2V2DDAMOAKGFAWDDQ6QHA,AESFLDV2PT363T2AQLWQOWZ4N3OA,AHTPQRIMGUD4BYR5YIHBH3CCGEFQ,AEUVWXYP5LT7PZLLZENEO2NODPBQ,AHC7MPW55DOO6WNCOQVA2VHOD26A,AFDI6FRPFBTNBG7BAEB7JDJSMKDQ,AFQKCEEEKXCOHTDG4WUN3X...           Kunal,Himanshu,viswanath,sai niharka,saqib malik,Aashiq,Ramu Challa,Sanjay gupta  R3J3EQQ9TZI5ZJ,R3E7WBGK7ID0KV,RWU79XKQ6I1QF,R25X4TBMPY91LX,R27OK7G99VK0TR,R207CYDCHJJTCJ,R3PCU8XMU173BT,R1IMONDOWRNU5V                                              Good speed for earlier versions,Good Product,Working good,Good for the price,Good,Worth for money,Working nice,it's a really nice product  Not quite durable and sturdy,https://m.media-amazon.com/images/W/WEBP_402378-T1/images/I/71rIggrbUCL._SY88.jpg,Working good,https://m.media-amazon.com/images/W/WEBP_402378-T1/images/I/61bKp9YO6wL....  https://m.media-amazon.com/images/W/WEBP_402378-T1/images/I/31IvNJZnmdL._SY445_SX342_QL70_FMwebp_.jpg      https://www.amazon.in/Sounce-iPhone-Charging-Compatible-Devices/dp/B096MSW6CT/ref=sr_1_3?qid=1672909124&s=electronics&sr=1-3\n",
       "3  B08HDJ86NZ  boAt Deuce USB 300 2 in 1 Type-C & Micro USB Stress Resistant, Tangle-Free, Sturdy Cable with 3A Fast Charging & 480mbps Data Transmission, 10000+ Bends Lifespan and Extended 1.5m Length(Martian Red)  Computers&Accessories|Accessories&Peripherals|Cables&Accessories|Cables|USBCables             ₹329         ₹699                 53%    4.2       94,363  The boAt Deuce USB 300 2 in 1 cable is compatible with smartphones, tablets, PC peripherals, Bluetooth speakers, power banks and all other devices with Type-C as well as Micro USB port|It ensures ...  AEWAZDZZJLQUYVOVGBEUKSLXHQ5A,AG5HTSFRRE6NL3M5SGCUQBP7YSCA,AH725ST5NW2Y4JZPKUNTIJCUK2BA,AHV3TXIFCJPMS4D5JATCEUR266MQ,AGWIGDEMFIIUAOXYY2QATNBSUGHA,AFSTSLQUV4EVEXWKBOLEFHL2H5YQ,AGAKDNBHY2FKX7I4ACRGIL...  Omkar dhale,JD,HEMALATHA,Ajwadh a.,amar singh chouhan,Ravi Siddan,Himanshu Goel,Udaykumar   R3EEUZKKK9J36I,R3HJVYCLYOY554,REDECAZ7AMPQC,R1CLH2ULIVG5U3,R2DMKIBGFKBD6R,RC89B5IAJUTR5,R3B3DDON5FH8DS,R13WAEJDI5RS36                                           Good product,Good one,Nice,Really nice product,Very first time change,Good,Fine product but could be better,Very nice it's charging like jet  Good product,long wire,Charges good,Nice,I bought this cable for Rs.339 worthy product for this price, i tested it in various charger adapters 33w and 18w it supports fast charging as well.,Good,O...                          https://m.media-amazon.com/images/I/41V5FtEWPkL._SX300_SY300_QL70_FMwebp_.jpg   https://www.amazon.in/Deuce-300-Resistant-Tangle-Free-Transmission/dp/B08HDJ86NZ/ref=sr_1_4?qid=1672909124&s=electronics&sr=1-4\n",
       "4  B08CF3B7N1                                                                                           Portronics Konnect L 1.2M Fast Charging 3A 8 Pin USB Cable with Charge & Sync Function for iPhone, iPad (Grey)  Computers&Accessories|Accessories&Peripherals|Cables&Accessories|Cables|USBCables             ₹154         ₹399                 61%    4.2       16,905  [CHARGE & SYNC FUNCTION]- This cable comes with charging & Data sync function|[HIGH QUALITY MATERIAL]- TPE + Nylon Material to make sure that the life of the cable is enhanced significantly|[LONG ...  AE3Q6KSUK5P75D5HFYHCRAOLODSA,AFUGIFH5ZAFXRDSZHM4QB2KPKFUQ,AFK4NJOLFSJGWLOJIUIAROJF6YVA,AFUOTYRFUXVPEBGIXVZZ7DR3CZUA,AFDLRSXKDZ6U3U3KD46SQLFGZQRA,AH5VLM66SIK7J3IRG4NY7XVOQ55A,AE3MQNNHHLUHXURL5S7IAR...       rahuls6099,Swasat Borah,Ajay Wadke,Pranali,RVK,Bhargav,Durai Vignesh,Amazon Customer    R1BP4L2HH9TFUP,R16PVJEXKV6QZS,R2UPDB81N66T4P,R3KK4GT934ST3I,RCFHMWUSBIJO,RDO7DACXMAJ84,R3A6MEZL3LY66Z,R1ESIEKPGAYA29                                             As good as original,Decent,Good one for secondary use,Best quality,GOOD,Amazing product at a mind blowing price!,Nice Quality,Good product  Bought this instead of original apple, does the work for 150rs, not as fast as apple charger but its a good option if you want cheap and good product, bought it for iPad pro 10.5 and it's working ...  https://m.media-amazon.com/images/W/WEBP_402378-T2/images/I/31VzNhhqifL._SX300_SY300_QL70_FMwebp_.jpg  https://www.amazon.in/Portronics-Konnect-POR-1080-Charging-Function/dp/B08CF3B7N1/ref=sr_1_5?qid=1672909124&s=electronics&sr=1-5"
      ]
     },
     "execution_count": 48,
     "metadata": {},
     "output_type": "execute_result"
    }
   ],
   "source": [
    "df.head()"
   ]
  },
  {
   "cell_type": "code",
   "execution_count": 49,
   "metadata": {},
   "outputs": [],
   "source": [
    "pd.set_option('display.width', 1000)"
   ]
  },
  {
   "cell_type": "code",
   "execution_count": 50,
   "metadata": {},
   "outputs": [
    {
     "data": {
      "text/plain": [
       "0           https://www.amazon.in/Wayona-Braided-WN3LG1-Syncing-Charging/dp/B07JW9H4J1/ref=sr_1_1?qid=1672909124&s=electronics&sr=1-1\n",
       "1       https://www.amazon.in/Ambrane-Unbreakable-Charging-Braided-Cable/dp/B098NS6PVG/ref=sr_1_2?qid=1672909124&s=electronics&sr=1-2\n",
       "2        https://www.amazon.in/Sounce-iPhone-Charging-Compatible-Devices/dp/B096MSW6CT/ref=sr_1_3?qid=1672909124&s=electronics&sr=1-3\n",
       "3     https://www.amazon.in/Deuce-300-Resistant-Tangle-Free-Transmission/dp/B08HDJ86NZ/ref=sr_1_4?qid=1672909124&s=electronics&sr=1-4\n",
       "4    https://www.amazon.in/Portronics-Konnect-POR-1080-Charging-Function/dp/B08CF3B7N1/ref=sr_1_5?qid=1672909124&s=electronics&sr=1-5\n",
       "Name: product_link, dtype: object"
      ]
     },
     "execution_count": 50,
     "metadata": {},
     "output_type": "execute_result"
    }
   ],
   "source": [
    "pd.set_option('max_colwidth', 200)\n",
    "df['product_link'].head()"
   ]
  },
  {
   "cell_type": "code",
   "execution_count": 51,
   "metadata": {},
   "outputs": [
    {
     "data": {
      "text/plain": [
       "product_id             0\n",
       "product_name           0\n",
       "category               0\n",
       "discounted_price       0\n",
       "actual_price           0\n",
       "discount_percentage    0\n",
       "rating                 0\n",
       "rating_count           2\n",
       "about_product          0\n",
       "user_id                0\n",
       "user_name              0\n",
       "review_id              0\n",
       "review_title           0\n",
       "review_content         0\n",
       "img_link               0\n",
       "product_link           0\n",
       "dtype: int64"
      ]
     },
     "execution_count": 51,
     "metadata": {},
     "output_type": "execute_result"
    }
   ],
   "source": [
    "df.isnull().sum()"
   ]
  },
  {
   "cell_type": "code",
   "execution_count": 52,
   "metadata": {},
   "outputs": [
    {
     "data": {
      "text/plain": [
       "0"
      ]
     },
     "execution_count": 52,
     "metadata": {},
     "output_type": "execute_result"
    }
   ],
   "source": [
    "df.duplicated().sum()"
   ]
  },
  {
   "cell_type": "code",
   "execution_count": 53,
   "metadata": {},
   "outputs": [],
   "source": [
    "df1 =df[['product_id','product_name','category','about_product']]"
   ]
  },
  {
   "cell_type": "code",
   "execution_count": 54,
   "metadata": {},
   "outputs": [],
   "source": [
    "df1['product_name_tag']=df1['product_name'].apply(lambda x:x.split())\n",
    "df1['category']=df1['category'].apply(lambda x:x.split(\"|\"))\n",
    "df1['about_product']=df1['about_product'].apply(lambda x:x.split())"
   ]
  },
  {
   "cell_type": "code",
   "execution_count": 55,
   "metadata": {},
   "outputs": [
    {
     "data": {
      "text/html": [
       "<div>\n",
       "<style scoped>\n",
       "    .dataframe tbody tr th:only-of-type {\n",
       "        vertical-align: middle;\n",
       "    }\n",
       "\n",
       "    .dataframe tbody tr th {\n",
       "        vertical-align: top;\n",
       "    }\n",
       "\n",
       "    .dataframe thead th {\n",
       "        text-align: right;\n",
       "    }\n",
       "</style>\n",
       "<table border=\"1\" class=\"dataframe\">\n",
       "  <thead>\n",
       "    <tr style=\"text-align: right;\">\n",
       "      <th></th>\n",
       "      <th>product_id</th>\n",
       "      <th>product_name</th>\n",
       "      <th>category</th>\n",
       "      <th>about_product</th>\n",
       "      <th>product_name_tag</th>\n",
       "    </tr>\n",
       "  </thead>\n",
       "  <tbody>\n",
       "    <tr>\n",
       "      <th>0</th>\n",
       "      <td>B07JW9H4J1</td>\n",
       "      <td>Wayona Nylon Braided USB to Lightning Fast Charging and Data Sync Cable Compatible for iPhone 13, 12,11, X, 8, 7, 6, 5, iPad Air, Pro, Mini (3 FT Pack of 1, Grey)</td>\n",
       "      <td>[Computers&amp;Accessories, Accessories&amp;Peripherals, Cables&amp;Accessories, Cables, USBCables]</td>\n",
       "      <td>[High, Compatibility, :, Compatible, With, iPhone, 12,, 11,, X/XsMax/Xr, ,iPhone, 8/8, Plus,iPhone, 7/7, Plus,iPhone, 6s/6s, Plus,iPhone, 6/6, Plus,iPhone, 5/5s/5c/se,iPad, Pro,iPad, Air, 1/2,iPad...</td>\n",
       "      <td>[Wayona, Nylon, Braided, USB, to, Lightning, Fast, Charging, and, Data, Sync, Cable, Compatible, for, iPhone, 13,, 12,11,, X,, 8,, 7,, 6,, 5,, iPad, Air,, Pro,, Mini, (3, FT, Pack, of, 1,, Grey)]</td>\n",
       "    </tr>\n",
       "    <tr>\n",
       "      <th>1</th>\n",
       "      <td>B098NS6PVG</td>\n",
       "      <td>Ambrane Unbreakable 60W / 3A Fast Charging 1.5m Braided Type C Cable for Smartphones, Tablets, Laptops &amp; other Type C devices, PD Technology, 480Mbps Data Sync, Quick Charge 3.0 (RCT15A, Black)</td>\n",
       "      <td>[Computers&amp;Accessories, Accessories&amp;Peripherals, Cables&amp;Accessories, Cables, USBCables]</td>\n",
       "      <td>[Compatible, with, all, Type, C, enabled, devices,, be, it, an, android, smartphone, (Mi,, Samsung,, Oppo,, Vivo,, Realme,, OnePlus,, etc),, tablet,, laptop, (Macbook,, Chromebook,, etc)|Supports,...</td>\n",
       "      <td>[Ambrane, Unbreakable, 60W, /, 3A, Fast, Charging, 1.5m, Braided, Type, C, Cable, for, Smartphones,, Tablets,, Laptops, &amp;, other, Type, C, devices,, PD, Technology,, 480Mbps, Data, Sync,, Quick, C...</td>\n",
       "    </tr>\n",
       "    <tr>\n",
       "      <th>2</th>\n",
       "      <td>B096MSW6CT</td>\n",
       "      <td>Sounce Fast Phone Charging Cable &amp; Data Sync USB Cable Compatible for iPhone 13, 12,11, X, 8, 7, 6, 5, iPad Air, Pro, Mini &amp; iOS Devices</td>\n",
       "      <td>[Computers&amp;Accessories, Accessories&amp;Peripherals, Cables&amp;Accessories, Cables, USBCables]</td>\n",
       "      <td>[【, Fast, Charger&amp;, Data, Sync】-With, built-in, safety, proctections, and, four-core, copper, wires, promote, maximum, signal, quality, and, strength, and, enhance, charging, &amp;, data, transfer, sp...</td>\n",
       "      <td>[Sounce, Fast, Phone, Charging, Cable, &amp;, Data, Sync, USB, Cable, Compatible, for, iPhone, 13,, 12,11,, X,, 8,, 7,, 6,, 5,, iPad, Air,, Pro,, Mini, &amp;, iOS, Devices]</td>\n",
       "    </tr>\n",
       "    <tr>\n",
       "      <th>3</th>\n",
       "      <td>B08HDJ86NZ</td>\n",
       "      <td>boAt Deuce USB 300 2 in 1 Type-C &amp; Micro USB Stress Resistant, Tangle-Free, Sturdy Cable with 3A Fast Charging &amp; 480mbps Data Transmission, 10000+ Bends Lifespan and Extended 1.5m Length(Martian Red)</td>\n",
       "      <td>[Computers&amp;Accessories, Accessories&amp;Peripherals, Cables&amp;Accessories, Cables, USBCables]</td>\n",
       "      <td>[The, boAt, Deuce, USB, 300, 2, in, 1, cable, is, compatible, with, smartphones,, tablets,, PC, peripherals,, Bluetooth, speakers,, power, banks, and, all, other, devices, with, Type-C, as, well, ...</td>\n",
       "      <td>[boAt, Deuce, USB, 300, 2, in, 1, Type-C, &amp;, Micro, USB, Stress, Resistant,, Tangle-Free,, Sturdy, Cable, with, 3A, Fast, Charging, &amp;, 480mbps, Data, Transmission,, 10000+, Bends, Lifespan, and, E...</td>\n",
       "    </tr>\n",
       "    <tr>\n",
       "      <th>4</th>\n",
       "      <td>B08CF3B7N1</td>\n",
       "      <td>Portronics Konnect L 1.2M Fast Charging 3A 8 Pin USB Cable with Charge &amp; Sync Function for iPhone, iPad (Grey)</td>\n",
       "      <td>[Computers&amp;Accessories, Accessories&amp;Peripherals, Cables&amp;Accessories, Cables, USBCables]</td>\n",
       "      <td>[[CHARGE, &amp;, SYNC, FUNCTION]-, This, cable, comes, with, charging, &amp;, Data, sync, function|[HIGH, QUALITY, MATERIAL]-, TPE, +, Nylon, Material, to, make, sure, that, the, life, of, the, cable, is,...</td>\n",
       "      <td>[Portronics, Konnect, L, 1.2M, Fast, Charging, 3A, 8, Pin, USB, Cable, with, Charge, &amp;, Sync, Function, for, iPhone,, iPad, (Grey)]</td>\n",
       "    </tr>\n",
       "  </tbody>\n",
       "</table>\n",
       "</div>"
      ],
      "text/plain": [
       "   product_id                                                                                                                                                                                             product_name                                                                                 category                                                                                                                                                                                            about_product                                                                                                                                                                                         product_name_tag\n",
       "0  B07JW9H4J1                                       Wayona Nylon Braided USB to Lightning Fast Charging and Data Sync Cable Compatible for iPhone 13, 12,11, X, 8, 7, 6, 5, iPad Air, Pro, Mini (3 FT Pack of 1, Grey)  [Computers&Accessories, Accessories&Peripherals, Cables&Accessories, Cables, USBCables]  [High, Compatibility, :, Compatible, With, iPhone, 12,, 11,, X/XsMax/Xr, ,iPhone, 8/8, Plus,iPhone, 7/7, Plus,iPhone, 6s/6s, Plus,iPhone, 6/6, Plus,iPhone, 5/5s/5c/se,iPad, Pro,iPad, Air, 1/2,iPad...      [Wayona, Nylon, Braided, USB, to, Lightning, Fast, Charging, and, Data, Sync, Cable, Compatible, for, iPhone, 13,, 12,11,, X,, 8,, 7,, 6,, 5,, iPad, Air,, Pro,, Mini, (3, FT, Pack, of, 1,, Grey)]\n",
       "1  B098NS6PVG        Ambrane Unbreakable 60W / 3A Fast Charging 1.5m Braided Type C Cable for Smartphones, Tablets, Laptops & other Type C devices, PD Technology, 480Mbps Data Sync, Quick Charge 3.0 (RCT15A, Black)  [Computers&Accessories, Accessories&Peripherals, Cables&Accessories, Cables, USBCables]  [Compatible, with, all, Type, C, enabled, devices,, be, it, an, android, smartphone, (Mi,, Samsung,, Oppo,, Vivo,, Realme,, OnePlus,, etc),, tablet,, laptop, (Macbook,, Chromebook,, etc)|Supports,...  [Ambrane, Unbreakable, 60W, /, 3A, Fast, Charging, 1.5m, Braided, Type, C, Cable, for, Smartphones,, Tablets,, Laptops, &, other, Type, C, devices,, PD, Technology,, 480Mbps, Data, Sync,, Quick, C...\n",
       "2  B096MSW6CT                                                                 Sounce Fast Phone Charging Cable & Data Sync USB Cable Compatible for iPhone 13, 12,11, X, 8, 7, 6, 5, iPad Air, Pro, Mini & iOS Devices  [Computers&Accessories, Accessories&Peripherals, Cables&Accessories, Cables, USBCables]  [【, Fast, Charger&, Data, Sync】-With, built-in, safety, proctections, and, four-core, copper, wires, promote, maximum, signal, quality, and, strength, and, enhance, charging, &, data, transfer, sp...                                     [Sounce, Fast, Phone, Charging, Cable, &, Data, Sync, USB, Cable, Compatible, for, iPhone, 13,, 12,11,, X,, 8,, 7,, 6,, 5,, iPad, Air,, Pro,, Mini, &, iOS, Devices]\n",
       "3  B08HDJ86NZ  boAt Deuce USB 300 2 in 1 Type-C & Micro USB Stress Resistant, Tangle-Free, Sturdy Cable with 3A Fast Charging & 480mbps Data Transmission, 10000+ Bends Lifespan and Extended 1.5m Length(Martian Red)  [Computers&Accessories, Accessories&Peripherals, Cables&Accessories, Cables, USBCables]  [The, boAt, Deuce, USB, 300, 2, in, 1, cable, is, compatible, with, smartphones,, tablets,, PC, peripherals,, Bluetooth, speakers,, power, banks, and, all, other, devices, with, Type-C, as, well, ...  [boAt, Deuce, USB, 300, 2, in, 1, Type-C, &, Micro, USB, Stress, Resistant,, Tangle-Free,, Sturdy, Cable, with, 3A, Fast, Charging, &, 480mbps, Data, Transmission,, 10000+, Bends, Lifespan, and, E...\n",
       "4  B08CF3B7N1                                                                                           Portronics Konnect L 1.2M Fast Charging 3A 8 Pin USB Cable with Charge & Sync Function for iPhone, iPad (Grey)  [Computers&Accessories, Accessories&Peripherals, Cables&Accessories, Cables, USBCables]  [[CHARGE, &, SYNC, FUNCTION]-, This, cable, comes, with, charging, &, Data, sync, function|[HIGH, QUALITY, MATERIAL]-, TPE, +, Nylon, Material, to, make, sure, that, the, life, of, the, cable, is,...                                                                      [Portronics, Konnect, L, 1.2M, Fast, Charging, 3A, 8, Pin, USB, Cable, with, Charge, &, Sync, Function, for, iPhone,, iPad, (Grey)]"
      ]
     },
     "execution_count": 55,
     "metadata": {},
     "output_type": "execute_result"
    }
   ],
   "source": [
    "df1.head()"
   ]
  },
  {
   "cell_type": "code",
   "execution_count": 56,
   "metadata": {},
   "outputs": [],
   "source": [
    "df1['tags'] =  df1['category'] + df1['about_product']"
   ]
  },
  {
   "cell_type": "code",
   "execution_count": 57,
   "metadata": {},
   "outputs": [
    {
     "data": {
      "text/html": [
       "<div>\n",
       "<style scoped>\n",
       "    .dataframe tbody tr th:only-of-type {\n",
       "        vertical-align: middle;\n",
       "    }\n",
       "\n",
       "    .dataframe tbody tr th {\n",
       "        vertical-align: top;\n",
       "    }\n",
       "\n",
       "    .dataframe thead th {\n",
       "        text-align: right;\n",
       "    }\n",
       "</style>\n",
       "<table border=\"1\" class=\"dataframe\">\n",
       "  <thead>\n",
       "    <tr style=\"text-align: right;\">\n",
       "      <th></th>\n",
       "      <th>product_id</th>\n",
       "      <th>product_name</th>\n",
       "      <th>tags</th>\n",
       "    </tr>\n",
       "  </thead>\n",
       "  <tbody>\n",
       "    <tr>\n",
       "      <th>0</th>\n",
       "      <td>B07JW9H4J1</td>\n",
       "      <td>Wayona Nylon Braided USB to Lightning Fast Charging and Data Sync Cable Compatible for iPhone 13, 12,11, X, 8, 7, 6, 5, iPad Air, Pro, Mini (3 FT Pack of 1, Grey)</td>\n",
       "      <td>[Computers&amp;Accessories, Accessories&amp;Peripherals, Cables&amp;Accessories, Cables, USBCables, High, Compatibility, :, Compatible, With, iPhone, 12,, 11,, X/XsMax/Xr, ,iPhone, 8/8, Plus,iPhone, 7/7, Plus...</td>\n",
       "    </tr>\n",
       "    <tr>\n",
       "      <th>1</th>\n",
       "      <td>B098NS6PVG</td>\n",
       "      <td>Ambrane Unbreakable 60W / 3A Fast Charging 1.5m Braided Type C Cable for Smartphones, Tablets, Laptops &amp; other Type C devices, PD Technology, 480Mbps Data Sync, Quick Charge 3.0 (RCT15A, Black)</td>\n",
       "      <td>[Computers&amp;Accessories, Accessories&amp;Peripherals, Cables&amp;Accessories, Cables, USBCables, Compatible, with, all, Type, C, enabled, devices,, be, it, an, android, smartphone, (Mi,, Samsung,, Oppo,, V...</td>\n",
       "    </tr>\n",
       "    <tr>\n",
       "      <th>2</th>\n",
       "      <td>B096MSW6CT</td>\n",
       "      <td>Sounce Fast Phone Charging Cable &amp; Data Sync USB Cable Compatible for iPhone 13, 12,11, X, 8, 7, 6, 5, iPad Air, Pro, Mini &amp; iOS Devices</td>\n",
       "      <td>[Computers&amp;Accessories, Accessories&amp;Peripherals, Cables&amp;Accessories, Cables, USBCables, 【, Fast, Charger&amp;, Data, Sync】-With, built-in, safety, proctections, and, four-core, copper, wires, promote,...</td>\n",
       "    </tr>\n",
       "    <tr>\n",
       "      <th>3</th>\n",
       "      <td>B08HDJ86NZ</td>\n",
       "      <td>boAt Deuce USB 300 2 in 1 Type-C &amp; Micro USB Stress Resistant, Tangle-Free, Sturdy Cable with 3A Fast Charging &amp; 480mbps Data Transmission, 10000+ Bends Lifespan and Extended 1.5m Length(Martian Red)</td>\n",
       "      <td>[Computers&amp;Accessories, Accessories&amp;Peripherals, Cables&amp;Accessories, Cables, USBCables, The, boAt, Deuce, USB, 300, 2, in, 1, cable, is, compatible, with, smartphones,, tablets,, PC, peripherals,,...</td>\n",
       "    </tr>\n",
       "    <tr>\n",
       "      <th>4</th>\n",
       "      <td>B08CF3B7N1</td>\n",
       "      <td>Portronics Konnect L 1.2M Fast Charging 3A 8 Pin USB Cable with Charge &amp; Sync Function for iPhone, iPad (Grey)</td>\n",
       "      <td>[Computers&amp;Accessories, Accessories&amp;Peripherals, Cables&amp;Accessories, Cables, USBCables, [CHARGE, &amp;, SYNC, FUNCTION]-, This, cable, comes, with, charging, &amp;, Data, sync, function|[HIGH, QUALITY, MA...</td>\n",
       "    </tr>\n",
       "  </tbody>\n",
       "</table>\n",
       "</div>"
      ],
      "text/plain": [
       "   product_id                                                                                                                                                                                             product_name                                                                                                                                                                                                     tags\n",
       "0  B07JW9H4J1                                       Wayona Nylon Braided USB to Lightning Fast Charging and Data Sync Cable Compatible for iPhone 13, 12,11, X, 8, 7, 6, 5, iPad Air, Pro, Mini (3 FT Pack of 1, Grey)  [Computers&Accessories, Accessories&Peripherals, Cables&Accessories, Cables, USBCables, High, Compatibility, :, Compatible, With, iPhone, 12,, 11,, X/XsMax/Xr, ,iPhone, 8/8, Plus,iPhone, 7/7, Plus...\n",
       "1  B098NS6PVG        Ambrane Unbreakable 60W / 3A Fast Charging 1.5m Braided Type C Cable for Smartphones, Tablets, Laptops & other Type C devices, PD Technology, 480Mbps Data Sync, Quick Charge 3.0 (RCT15A, Black)  [Computers&Accessories, Accessories&Peripherals, Cables&Accessories, Cables, USBCables, Compatible, with, all, Type, C, enabled, devices,, be, it, an, android, smartphone, (Mi,, Samsung,, Oppo,, V...\n",
       "2  B096MSW6CT                                                                 Sounce Fast Phone Charging Cable & Data Sync USB Cable Compatible for iPhone 13, 12,11, X, 8, 7, 6, 5, iPad Air, Pro, Mini & iOS Devices  [Computers&Accessories, Accessories&Peripherals, Cables&Accessories, Cables, USBCables, 【, Fast, Charger&, Data, Sync】-With, built-in, safety, proctections, and, four-core, copper, wires, promote,...\n",
       "3  B08HDJ86NZ  boAt Deuce USB 300 2 in 1 Type-C & Micro USB Stress Resistant, Tangle-Free, Sturdy Cable with 3A Fast Charging & 480mbps Data Transmission, 10000+ Bends Lifespan and Extended 1.5m Length(Martian Red)  [Computers&Accessories, Accessories&Peripherals, Cables&Accessories, Cables, USBCables, The, boAt, Deuce, USB, 300, 2, in, 1, cable, is, compatible, with, smartphones,, tablets,, PC, peripherals,,...\n",
       "4  B08CF3B7N1                                                                                           Portronics Konnect L 1.2M Fast Charging 3A 8 Pin USB Cable with Charge & Sync Function for iPhone, iPad (Grey)  [Computers&Accessories, Accessories&Peripherals, Cables&Accessories, Cables, USBCables, [CHARGE, &, SYNC, FUNCTION]-, This, cable, comes, with, charging, &, Data, sync, function|[HIGH, QUALITY, MA..."
      ]
     },
     "execution_count": 57,
     "metadata": {},
     "output_type": "execute_result"
    }
   ],
   "source": [
    "new_df=df1[['product_id','product_name','tags']]\n",
    "new_df.head()"
   ]
  },
  {
   "cell_type": "code",
   "execution_count": 58,
   "metadata": {},
   "outputs": [],
   "source": [
    "new_df['tags'] = new_df['tags'].apply(lambda x:\"\".join(x))"
   ]
  },
  {
   "cell_type": "code",
   "execution_count": 59,
   "metadata": {},
   "outputs": [
    {
     "data": {
      "text/html": [
       "<div>\n",
       "<style scoped>\n",
       "    .dataframe tbody tr th:only-of-type {\n",
       "        vertical-align: middle;\n",
       "    }\n",
       "\n",
       "    .dataframe tbody tr th {\n",
       "        vertical-align: top;\n",
       "    }\n",
       "\n",
       "    .dataframe thead th {\n",
       "        text-align: right;\n",
       "    }\n",
       "</style>\n",
       "<table border=\"1\" class=\"dataframe\">\n",
       "  <thead>\n",
       "    <tr style=\"text-align: right;\">\n",
       "      <th></th>\n",
       "      <th>product_id</th>\n",
       "      <th>product_name</th>\n",
       "      <th>tags</th>\n",
       "    </tr>\n",
       "  </thead>\n",
       "  <tbody>\n",
       "    <tr>\n",
       "      <th>0</th>\n",
       "      <td>B07JW9H4J1</td>\n",
       "      <td>Wayona Nylon Braided USB to Lightning Fast Charging and Data Sync Cable Compatible for iPhone 13, 12,11, X, 8, 7, 6, 5, iPad Air, Pro, Mini (3 FT Pack of 1, Grey)</td>\n",
       "      <td>Computers&amp;AccessoriesAccessories&amp;PeripheralsCables&amp;AccessoriesCablesUSBCablesHighCompatibility:CompatibleWithiPhone12,11,X/XsMax/Xr,iPhone8/8Plus,iPhone7/7Plus,iPhone6s/6sPlus,iPhone6/6Plus,iPhone...</td>\n",
       "    </tr>\n",
       "    <tr>\n",
       "      <th>1</th>\n",
       "      <td>B098NS6PVG</td>\n",
       "      <td>Ambrane Unbreakable 60W / 3A Fast Charging 1.5m Braided Type C Cable for Smartphones, Tablets, Laptops &amp; other Type C devices, PD Technology, 480Mbps Data Sync, Quick Charge 3.0 (RCT15A, Black)</td>\n",
       "      <td>Computers&amp;AccessoriesAccessories&amp;PeripheralsCables&amp;AccessoriesCablesUSBCablesCompatiblewithallTypeCenableddevices,beitanandroidsmartphone(Mi,Samsung,Oppo,Vivo,Realme,OnePlus,etc),tablet,laptop(Mac...</td>\n",
       "    </tr>\n",
       "    <tr>\n",
       "      <th>2</th>\n",
       "      <td>B096MSW6CT</td>\n",
       "      <td>Sounce Fast Phone Charging Cable &amp; Data Sync USB Cable Compatible for iPhone 13, 12,11, X, 8, 7, 6, 5, iPad Air, Pro, Mini &amp; iOS Devices</td>\n",
       "      <td>Computers&amp;AccessoriesAccessories&amp;PeripheralsCables&amp;AccessoriesCablesUSBCables【FastCharger&amp;DataSync】-Withbuilt-insafetyproctectionsandfour-corecopperwirespromotemaximumsignalqualityandstrengthanden...</td>\n",
       "    </tr>\n",
       "    <tr>\n",
       "      <th>3</th>\n",
       "      <td>B08HDJ86NZ</td>\n",
       "      <td>boAt Deuce USB 300 2 in 1 Type-C &amp; Micro USB Stress Resistant, Tangle-Free, Sturdy Cable with 3A Fast Charging &amp; 480mbps Data Transmission, 10000+ Bends Lifespan and Extended 1.5m Length(Martian Red)</td>\n",
       "      <td>Computers&amp;AccessoriesAccessories&amp;PeripheralsCables&amp;AccessoriesCablesUSBCablesTheboAtDeuceUSB3002in1cableiscompatiblewithsmartphones,tablets,PCperipherals,Bluetoothspeakers,powerbanksandallotherdev...</td>\n",
       "    </tr>\n",
       "    <tr>\n",
       "      <th>4</th>\n",
       "      <td>B08CF3B7N1</td>\n",
       "      <td>Portronics Konnect L 1.2M Fast Charging 3A 8 Pin USB Cable with Charge &amp; Sync Function for iPhone, iPad (Grey)</td>\n",
       "      <td>Computers&amp;AccessoriesAccessories&amp;PeripheralsCables&amp;AccessoriesCablesUSBCables[CHARGE&amp;SYNCFUNCTION]-Thiscablecomeswithcharging&amp;Datasyncfunction|[HIGHQUALITYMATERIAL]-TPE+NylonMaterialtomakesurethat...</td>\n",
       "    </tr>\n",
       "  </tbody>\n",
       "</table>\n",
       "</div>"
      ],
      "text/plain": [
       "   product_id                                                                                                                                                                                             product_name                                                                                                                                                                                                     tags\n",
       "0  B07JW9H4J1                                       Wayona Nylon Braided USB to Lightning Fast Charging and Data Sync Cable Compatible for iPhone 13, 12,11, X, 8, 7, 6, 5, iPad Air, Pro, Mini (3 FT Pack of 1, Grey)  Computers&AccessoriesAccessories&PeripheralsCables&AccessoriesCablesUSBCablesHighCompatibility:CompatibleWithiPhone12,11,X/XsMax/Xr,iPhone8/8Plus,iPhone7/7Plus,iPhone6s/6sPlus,iPhone6/6Plus,iPhone...\n",
       "1  B098NS6PVG        Ambrane Unbreakable 60W / 3A Fast Charging 1.5m Braided Type C Cable for Smartphones, Tablets, Laptops & other Type C devices, PD Technology, 480Mbps Data Sync, Quick Charge 3.0 (RCT15A, Black)  Computers&AccessoriesAccessories&PeripheralsCables&AccessoriesCablesUSBCablesCompatiblewithallTypeCenableddevices,beitanandroidsmartphone(Mi,Samsung,Oppo,Vivo,Realme,OnePlus,etc),tablet,laptop(Mac...\n",
       "2  B096MSW6CT                                                                 Sounce Fast Phone Charging Cable & Data Sync USB Cable Compatible for iPhone 13, 12,11, X, 8, 7, 6, 5, iPad Air, Pro, Mini & iOS Devices  Computers&AccessoriesAccessories&PeripheralsCables&AccessoriesCablesUSBCables【FastCharger&DataSync】-Withbuilt-insafetyproctectionsandfour-corecopperwirespromotemaximumsignalqualityandstrengthanden...\n",
       "3  B08HDJ86NZ  boAt Deuce USB 300 2 in 1 Type-C & Micro USB Stress Resistant, Tangle-Free, Sturdy Cable with 3A Fast Charging & 480mbps Data Transmission, 10000+ Bends Lifespan and Extended 1.5m Length(Martian Red)  Computers&AccessoriesAccessories&PeripheralsCables&AccessoriesCablesUSBCablesTheboAtDeuceUSB3002in1cableiscompatiblewithsmartphones,tablets,PCperipherals,Bluetoothspeakers,powerbanksandallotherdev...\n",
       "4  B08CF3B7N1                                                                                           Portronics Konnect L 1.2M Fast Charging 3A 8 Pin USB Cable with Charge & Sync Function for iPhone, iPad (Grey)  Computers&AccessoriesAccessories&PeripheralsCables&AccessoriesCablesUSBCables[CHARGE&SYNCFUNCTION]-Thiscablecomeswithcharging&Datasyncfunction|[HIGHQUALITYMATERIAL]-TPE+NylonMaterialtomakesurethat..."
      ]
     },
     "execution_count": 59,
     "metadata": {},
     "output_type": "execute_result"
    }
   ],
   "source": [
    "new_df.head()"
   ]
  },
  {
   "cell_type": "code",
   "execution_count": 60,
   "metadata": {},
   "outputs": [],
   "source": [
    "ps = PorterStemmer()\n",
    "def stem(txt):\n",
    "    y= []\n",
    "    for i in txt.split():\n",
    "        y.append(ps.stem(i))\n",
    "    return \" \".join(y)"
   ]
  },
  {
   "cell_type": "code",
   "execution_count": 61,
   "metadata": {},
   "outputs": [],
   "source": [
    "new_df['tags'] = new_df['tags'].apply(stem)\n",
    "new_df['tags'] = new_df['tags'].apply(lambda x:x.lower())"
   ]
  },
  {
   "cell_type": "code",
   "execution_count": 62,
   "metadata": {},
   "outputs": [
    {
     "data": {
      "text/html": [
       "<div>\n",
       "<style scoped>\n",
       "    .dataframe tbody tr th:only-of-type {\n",
       "        vertical-align: middle;\n",
       "    }\n",
       "\n",
       "    .dataframe tbody tr th {\n",
       "        vertical-align: top;\n",
       "    }\n",
       "\n",
       "    .dataframe thead th {\n",
       "        text-align: right;\n",
       "    }\n",
       "</style>\n",
       "<table border=\"1\" class=\"dataframe\">\n",
       "  <thead>\n",
       "    <tr style=\"text-align: right;\">\n",
       "      <th></th>\n",
       "      <th>product_id</th>\n",
       "      <th>product_name</th>\n",
       "      <th>tags</th>\n",
       "    </tr>\n",
       "  </thead>\n",
       "  <tbody>\n",
       "    <tr>\n",
       "      <th>0</th>\n",
       "      <td>B07JW9H4J1</td>\n",
       "      <td>Wayona Nylon Braided USB to Lightning Fast Charging and Data Sync Cable Compatible for iPhone 13, 12,11, X, 8, 7, 6, 5, iPad Air, Pro, Mini (3 FT Pack of 1, Grey)</td>\n",
       "      <td>computers&amp;accessoriesaccessories&amp;peripheralscables&amp;accessoriescablesusbcableshighcompatibility:compatiblewithiphone12,11,x/xsmax/xr,iphone8/8plus,iphone7/7plus,iphone6s/6splus,iphone6/6plus,iphone...</td>\n",
       "    </tr>\n",
       "    <tr>\n",
       "      <th>1</th>\n",
       "      <td>B098NS6PVG</td>\n",
       "      <td>Ambrane Unbreakable 60W / 3A Fast Charging 1.5m Braided Type C Cable for Smartphones, Tablets, Laptops &amp; other Type C devices, PD Technology, 480Mbps Data Sync, Quick Charge 3.0 (RCT15A, Black)</td>\n",
       "      <td>computers&amp;accessoriesaccessories&amp;peripheralscables&amp;accessoriescablesusbcablescompatiblewithalltypecenableddevices,beitanandroidsmartphone(mi,samsung,oppo,vivo,realme,oneplus,etc),tablet,laptop(mac...</td>\n",
       "    </tr>\n",
       "    <tr>\n",
       "      <th>2</th>\n",
       "      <td>B096MSW6CT</td>\n",
       "      <td>Sounce Fast Phone Charging Cable &amp; Data Sync USB Cable Compatible for iPhone 13, 12,11, X, 8, 7, 6, 5, iPad Air, Pro, Mini &amp; iOS Devices</td>\n",
       "      <td>computers&amp;accessoriesaccessories&amp;peripheralscables&amp;accessoriescablesusbcables【fastcharger&amp;datasync】-withbuilt-insafetyproctectionsandfour-corecopperwirespromotemaximumsignalqualityandstrengthanden...</td>\n",
       "    </tr>\n",
       "    <tr>\n",
       "      <th>3</th>\n",
       "      <td>B08HDJ86NZ</td>\n",
       "      <td>boAt Deuce USB 300 2 in 1 Type-C &amp; Micro USB Stress Resistant, Tangle-Free, Sturdy Cable with 3A Fast Charging &amp; 480mbps Data Transmission, 10000+ Bends Lifespan and Extended 1.5m Length(Martian Red)</td>\n",
       "      <td>computers&amp;accessoriesaccessories&amp;peripheralscables&amp;accessoriescablesusbcablestheboatdeuceusb3002in1cableiscompatiblewithsmartphones,tablets,pcperipherals,bluetoothspeakers,powerbanksandallotherdev...</td>\n",
       "    </tr>\n",
       "    <tr>\n",
       "      <th>4</th>\n",
       "      <td>B08CF3B7N1</td>\n",
       "      <td>Portronics Konnect L 1.2M Fast Charging 3A 8 Pin USB Cable with Charge &amp; Sync Function for iPhone, iPad (Grey)</td>\n",
       "      <td>computers&amp;accessoriesaccessories&amp;peripheralscables&amp;accessoriescablesusbcables[charge&amp;syncfunction]-thiscablecomeswithcharging&amp;datasyncfunction|[highqualitymaterial]-tpe+nylonmaterialtomakesurethat...</td>\n",
       "    </tr>\n",
       "  </tbody>\n",
       "</table>\n",
       "</div>"
      ],
      "text/plain": [
       "   product_id                                                                                                                                                                                             product_name                                                                                                                                                                                                     tags\n",
       "0  B07JW9H4J1                                       Wayona Nylon Braided USB to Lightning Fast Charging and Data Sync Cable Compatible for iPhone 13, 12,11, X, 8, 7, 6, 5, iPad Air, Pro, Mini (3 FT Pack of 1, Grey)  computers&accessoriesaccessories&peripheralscables&accessoriescablesusbcableshighcompatibility:compatiblewithiphone12,11,x/xsmax/xr,iphone8/8plus,iphone7/7plus,iphone6s/6splus,iphone6/6plus,iphone...\n",
       "1  B098NS6PVG        Ambrane Unbreakable 60W / 3A Fast Charging 1.5m Braided Type C Cable for Smartphones, Tablets, Laptops & other Type C devices, PD Technology, 480Mbps Data Sync, Quick Charge 3.0 (RCT15A, Black)  computers&accessoriesaccessories&peripheralscables&accessoriescablesusbcablescompatiblewithalltypecenableddevices,beitanandroidsmartphone(mi,samsung,oppo,vivo,realme,oneplus,etc),tablet,laptop(mac...\n",
       "2  B096MSW6CT                                                                 Sounce Fast Phone Charging Cable & Data Sync USB Cable Compatible for iPhone 13, 12,11, X, 8, 7, 6, 5, iPad Air, Pro, Mini & iOS Devices  computers&accessoriesaccessories&peripheralscables&accessoriescablesusbcables【fastcharger&datasync】-withbuilt-insafetyproctectionsandfour-corecopperwirespromotemaximumsignalqualityandstrengthanden...\n",
       "3  B08HDJ86NZ  boAt Deuce USB 300 2 in 1 Type-C & Micro USB Stress Resistant, Tangle-Free, Sturdy Cable with 3A Fast Charging & 480mbps Data Transmission, 10000+ Bends Lifespan and Extended 1.5m Length(Martian Red)  computers&accessoriesaccessories&peripheralscables&accessoriescablesusbcablestheboatdeuceusb3002in1cableiscompatiblewithsmartphones,tablets,pcperipherals,bluetoothspeakers,powerbanksandallotherdev...\n",
       "4  B08CF3B7N1                                                                                           Portronics Konnect L 1.2M Fast Charging 3A 8 Pin USB Cable with Charge & Sync Function for iPhone, iPad (Grey)  computers&accessoriesaccessories&peripheralscables&accessoriescablesusbcables[charge&syncfunction]-thiscablecomeswithcharging&datasyncfunction|[highqualitymaterial]-tpe+nylonmaterialtomakesurethat..."
      ]
     },
     "execution_count": 62,
     "metadata": {},
     "output_type": "execute_result"
    }
   ],
   "source": [
    "new_df.head()"
   ]
  },
  {
   "cell_type": "code",
   "execution_count": 63,
   "metadata": {},
   "outputs": [],
   "source": [
    "cv = CountVectorizer(max_features=5000,stop_words='english',encoding='utf-8')"
   ]
  },
  {
   "cell_type": "code",
   "execution_count": 64,
   "metadata": {},
   "outputs": [
    {
     "data": {
      "text/plain": [
       "(1465, 5000)"
      ]
     },
     "execution_count": 64,
     "metadata": {},
     "output_type": "execute_result"
    }
   ],
   "source": [
    "vectors = cv.fit_transform(new_df['tags'].values.astype(str))\n",
    "vectors.shape"
   ]
  },
  {
   "cell_type": "code",
   "execution_count": 65,
   "metadata": {},
   "outputs": [
    {
     "data": {
      "text/plain": [
       "array(['000',\n",
       "       '000bendingandinsertiontestsforextraprotectionanddurability',\n",
       "       '000bendingtestsandcaneasilywithstanddailyuse', ..., 'zee5andmore',\n",
       "       'zeolite', 'zoom'], dtype=object)"
      ]
     },
     "execution_count": 65,
     "metadata": {},
     "output_type": "execute_result"
    }
   ],
   "source": [
    "cv.get_feature_names_out()"
   ]
  },
  {
   "cell_type": "code",
   "execution_count": 66,
   "metadata": {},
   "outputs": [],
   "source": [
    "similar = cosine_similarity(vectors)"
   ]
  },
  {
   "cell_type": "code",
   "execution_count": 67,
   "metadata": {},
   "outputs": [
    {
     "data": {
      "text/plain": [
       "array([[1.        , 0.08581944, 0.12155416, ..., 0.        , 0.        ,\n",
       "        0.        ],\n",
       "       [0.08581944, 1.        , 0.09805807, ..., 0.        , 0.        ,\n",
       "        0.        ],\n",
       "       [0.12155416, 0.09805807, 1.        , ..., 0.        , 0.        ,\n",
       "        0.        ],\n",
       "       ...,\n",
       "       [0.        , 0.        , 0.        , ..., 1.        , 0.3354102 ,\n",
       "        0.16903085],\n",
       "       [0.        , 0.        , 0.        , ..., 0.3354102 , 1.        ,\n",
       "        0.09449112],\n",
       "       [0.        , 0.        , 0.        , ..., 0.16903085, 0.09449112,\n",
       "        1.        ]])"
      ]
     },
     "execution_count": 67,
     "metadata": {},
     "output_type": "execute_result"
    }
   ],
   "source": [
    "similar"
   ]
  },
  {
   "cell_type": "code",
   "execution_count": 68,
   "metadata": {},
   "outputs": [],
   "source": [
    "def recommend(product_id):\n",
    "    index = new_df[new_df['product_id'] == product_id].index[0]\n",
    "    distances = sorted(list(enumerate(similar[index])),reverse=True,key = lambda x: x[1])\n",
    "    for i in distances[1:11]:\n",
    "        print(new_df.iloc[i[0]].product_name)"
   ]
  },
  {
   "cell_type": "code",
   "execution_count": 69,
   "metadata": {},
   "outputs": [
    {
     "name": "stdout",
     "output_type": "stream",
     "text": [
      "Wayona Nylon Braided USB to Lightning Fast Charging and Data Sync Cable Compatible for iPhone 13, 12,11, X, 8, 7, 6, 5, iPad Air, Pro, Mini (3 FT Pack of 1, Grey)\n",
      "Wayona Nylon Braided USB to Lightning Fast Charging and Data Sync Cable Compatible for iPhone 13, 12,11, X, 8, 7, 6, 5, iPad Air, Pro, Mini (3 FT Pack of 1, Grey)\n",
      "Wayona Nylon Braided Usb Syncing And Charging Cable Sync And Charging Cable For Iphone, Ipad (3 Ft, Black) - Pack Of 2\n",
      "Wayona Nylon Braided 3A Lightning to USB A Syncing and Fast Charging Data Cable for iPhone, Ipad (3 FT Pack of 1, Black)\n",
      "Wayona Nylon Braided (2 Pack) Lightning Fast Usb Data Cable Fast Charger Cord For Iphone, Ipad Tablet (3 Ft Pack Of 2, Grey)\n",
      "Wayona Usb Nylon Braided Data Sync And Charging Cable For Iphone, Ipad Tablet (Red, Black)\n",
      "Wayona Nylon Braided 2M / 6Ft Fast Charge Usb To Lightning Data Sync And Charging Cable For Iphone, Ipad Tablet (6 Ft Pack Of 1, Grey)\n",
      "Wayona Nylon Braided Lightning USB Data Sync & 3A Charging Cable for iPhones, iPad Air, iPad Mini, iPod Nano and iPod Touch (3 FT Pack of 1, Grey)\n",
      "MYVN LTG to USB for Fast Charging & Data Sync USB Cable Compatible for iPhone 5/5s/6/6S/7/7+/8/8+/10/11, iPad Air/Mini, iPod and iOS Devices (1 M)\n",
      "Wayona Nylon Braided USB Data Sync and Fast Charging 3A Short Power Bank Cable For iPhones, iPad Air, iPad mini, iPod Nano and iPod Touch (Grey)\n"
     ]
    }
   ],
   "source": [
    "recommend('B07JW9H4J1')"
   ]
  },
  {
   "cell_type": "code",
   "execution_count": 70,
   "metadata": {},
   "outputs": [],
   "source": [
    "def link(product_name):\n",
    "    index=df[new_df['product_name'] == product_name].index[0]\n",
    "    productlink=df.iloc[index].product_link\n",
    "    print(productlink)"
   ]
  },
  {
   "cell_type": "code",
   "execution_count": 72,
   "metadata": {},
   "outputs": [],
   "source": [
    "def sentiment(product_name):\n",
    "    index=df[new_df['product_name'] == product_name].index[0]\n",
    "    title=df.iloc[index].review_title\n",
    "    content=df.iloc[index].review_content\n",
    "    print(title,content)"
   ]
  },
  {
   "cell_type": "code",
   "execution_count": 73,
   "metadata": {},
   "outputs": [
    {
     "name": "stdout",
     "output_type": "stream",
     "text": [
      "https://www.amazon.in/Wayona-Braided-Syncing-Charging-iPhone/dp/B07LGT55SJ/ref=sr_1_89?qid=1672909128&s=electronics&sr=1-89\n",
      "Satisfied,Charging is really fast,Value for money,Product review,Good quality,Good product,Good Product,As of now seems good Looks durable Charging is fine tooNo complains,Charging is really fast, good product.,Till now satisfied with the quality.,This is a good product . The charging speed is slower than the original iPhone cable,Good quality, would recommend,https://m.media-amazon.com/images/W/WEBP_402378-T2/images/I/81---F1ZgHL._SY88.jpg,Product had worked well till date and was having no issue.Cable is also sturdy enough...Have asked for replacement and company is doing the same...,Value for money\n"
     ]
    }
   ],
   "source": [
    "link('Wayona Usb Nylon Braided Data Sync And Charging Cable For Iphone, Ipad Tablet (Red, Black)')\n",
    "sentiment(\"Wayona Usb Nylon Braided Data Sync And Charging Cable For Iphone, Ipad Tablet (Red, Black)\")"
   ]
  },
  {
   "cell_type": "code",
   "execution_count": 76,
   "metadata": {},
   "outputs": [
    {
     "name": "stderr",
     "output_type": "stream",
     "text": [
      "config.json: 100%|██████████| 747/747 [00:00<?, ?B/s] \n",
      "vocab.json: 100%|██████████| 899k/899k [00:00<00:00, 1.01MB/s]\n",
      "merges.txt: 100%|██████████| 456k/456k [00:00<00:00, 711kB/s]\n",
      "special_tokens_map.json: 100%|██████████| 150/150 [00:00<?, ?B/s] \n",
      "pytorch_model.bin: 100%|██████████| 499M/499M [02:22<00:00, 3.50MB/s] \n"
     ]
    }
   ],
   "source": [
    "MODEL = f\"cardiffnlp/twitter-roberta-base-sentiment\"\n",
    "tokenizer = AutoTokenizer.from_pretrained(MODEL)\n",
    "model = AutoModelForSequenceClassification.from_pretrained(MODEL)"
   ]
  },
  {
   "cell_type": "code",
   "execution_count": null,
   "metadata": {},
   "outputs": [],
   "source": []
  }
 ],
 "metadata": {
  "kernelspec": {
   "display_name": "Python 3",
   "language": "python",
   "name": "python3"
  },
  "language_info": {
   "codemirror_mode": {
    "name": "ipython",
    "version": 3
   },
   "file_extension": ".py",
   "mimetype": "text/x-python",
   "name": "python",
   "nbconvert_exporter": "python",
   "pygments_lexer": "ipython3",
   "version": "3.10.10"
  }
 },
 "nbformat": 4,
 "nbformat_minor": 2
}
